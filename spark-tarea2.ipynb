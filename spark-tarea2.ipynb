{
 "cells": [
  {
   "cell_type": "code",
   "execution_count": 2,
   "id": "younger-fellowship",
   "metadata": {},
   "outputs": [],
   "source": [
    "from pyspark.sql import SparkSession\n",
    "\n",
    "spark = SparkSession \\\n",
    "    .builder \\\n",
    "    .appName(\"Python Spark SQL Tarea 2\") \\\n",
    "    .config(\"spark.some.config.option\", \"some-value\") \\\n",
    "    .getOrCreate()"
   ]
  },
  {
   "cell_type": "code",
   "execution_count": 3,
   "id": "southeast-friendly",
   "metadata": {},
   "outputs": [],
   "source": [
    "from pyspark.sql.types import *\n",
    "from pyspark.sql.functions import *\n",
    "from datetime import *"
   ]
  },
  {
   "cell_type": "code",
   "execution_count": 4,
   "id": "sensitive-drill",
   "metadata": {},
   "outputs": [],
   "source": [
    "#crear el esquema mediante StructType, definir la estructura de un campo (columna) en un esquema con StructField y definir tipo de dato \n",
    "fields = [StructField(\"a\", StringType(),True), StructField(\"b\", StringType(),True),StructField(\"c\", StringType(),True),\n",
    "         StructField(\"X\", DoubleType(),True),StructField(\"Y\", DoubleType(),True),StructField(\"Z\", DoubleType(),True),\n",
    "         StructField(\"user\", StringType(),True),StructField(\"model\", StringType(),True),StructField(\"d\", StringType(),True),\n",
    "         StructField(\"action\", StringType(),True)]\n",
    "schema = StructType(fields)"
   ]
  },
  {
   "cell_type": "code",
   "execution_count": 5,
   "id": "ignored-conducting",
   "metadata": {},
   "outputs": [],
   "source": [
    "# leer cada csv y aplicar el schema\n",
    "df_phone_acceler = spark.read.csv(\"Phones_accelerometer1.csv\", schema=schema, header = False, nullValue=\"null\")\n",
    "df_phone_gyros = spark.read.csv(\"Phones_gyroscope1.csv\", schema=schema, header = False, nullValue=\"null\")\n",
    "df_watch_acceler = spark.read.csv(\"Watch_accelerometer1.csv\", schema=schema, header = False, nullValue=\"null\")\n",
    "df_watch_gyros =  spark.read.csv(\"Watch_gyroscope1.csv\", schema=schema, header = False, nullValue=\"null\")"
   ]
  },
  {
   "cell_type": "code",
   "execution_count": 6,
   "id": "smart-cooperation",
   "metadata": {},
   "outputs": [],
   "source": [
    "# eliminar las columnas que no nos sirven con drop\n",
    "df_phone_acceler = df_phone_acceler.drop(\"a\", \"b\", \"c\", \"d\")\n",
    "df_phone_gyros = df_phone_gyros.drop(\"a\", \"b\", \"c\", \"d\")\n",
    "df_watch_acceler = df_watch_acceler.drop(\"a\", \"b\", \"c\", \"d\")\n",
    "df_watch_gyros = df_watch_gyros.drop(\"a\", \"b\", \"c\", \"d\")"
   ]
  },
  {
   "cell_type": "code",
   "execution_count": 7,
   "id": "democratic-rates",
   "metadata": {},
   "outputs": [],
   "source": [
    "#df_phone_acceler.show()"
   ]
  },
  {
   "cell_type": "code",
   "execution_count": 8,
   "id": "breathing-concord",
   "metadata": {},
   "outputs": [],
   "source": [
    "#función para las agregaciones: media, desviación, min y máx, lo agrupamos por user, model y action\n",
    "def calcular_resultados(df):\n",
    "    return df.groupBy(\"user\", \"model\", \"action\").agg(\n",
    "        format_number(mean(\"X\"), 2).alias(\"mean_X\"),\n",
    "        format_number(stddev(\"X\"), 2).alias(\"stddev_X\"),\n",
    "        format_number(min(\"X\"), 2).alias(\"min_X\"),\n",
    "        format_number(max(\"X\"), 2).alias(\"max_X\"),\n",
    "        format_number(mean(\"Y\"), 2).alias(\"mean_Y\"),\n",
    "        format_number(stddev(\"Y\"), 2).alias(\"stddev_Y\"),\n",
    "        format_number(min(\"Y\"), 2).alias(\"min_Y\"),\n",
    "        format_number(max(\"Y\"), 2).alias(\"max_Y\"),\n",
    "        format_number(mean(\"Z\"), 2).alias(\"mean_Z\"),\n",
    "        format_number(stddev(\"Z\"), 2).alias(\"stddev_Z\"),\n",
    "        format_number(min(\"Z\"), 2).alias(\"min_Z\"),\n",
    "        format_number(max(\"Z\"), 2).alias(\"max_Z\")\n",
    "    )\n",
    "# usar la función con diferentes conjuntos de datos\n",
    "resultados_phone_acceler = calcular_resultados(df_phone_acceler)\n",
    "resultados_phone_gyros = calcular_resultados(df_phone_gyros)\n",
    "resultados_watch_acceler = calcular_resultados(df_watch_acceler)\n",
    "resultados_watch_gyros = calcular_resultados(df_watch_gyros)"
   ]
  },
  {
   "cell_type": "code",
   "execution_count": 9,
   "id": "front-kingdom",
   "metadata": {},
   "outputs": [
    {
     "name": "stdout",
     "output_type": "stream",
     "text": [
      "+----+------+------+------+--------+-----+-----+------+--------+-----+-----+------+--------+-----+-----+\n",
      "|user| model|action|mean_X|stddev_X|min_X|max_X|mean_Y|stddev_Y|min_Y|max_Y|mean_Z|stddev_Z|min_Z|max_Z|\n",
      "+----+------+------+------+--------+-----+-----+------+--------+-----+-----+------+--------+-----+-----+\n",
      "|   a|nexus4| stand| -6.03|    0.18|-7.04|-5.52|  0.93|    0.24|-0.84| 1.95|  8.01|    0.18| 7.15| 8.64|\n",
      "+----+------+------+------+--------+-----+-----+------+--------+-----+-----+------+--------+-----+-----+\n",
      "\n",
      "+----+------+------+------+--------+-----+-----+------+--------+-----+-----+------+--------+-----+-----+\n",
      "|user| model|action|mean_X|stddev_X|min_X|max_X|mean_Y|stddev_Y|min_Y|max_Y|mean_Z|stddev_Z|min_Z|max_Z|\n",
      "+----+------+------+------+--------+-----+-----+------+--------+-----+-----+------+--------+-----+-----+\n",
      "|   a|nexus4| stand|  0.00|    0.04|-0.17| 0.63|  0.00|    0.03|-0.16| 0.35|  0.00|    0.05|-0.60| 0.45|\n",
      "+----+------+------+------+--------+-----+-----+------+--------+-----+-----+------+--------+-----+-----+\n",
      "\n",
      "+----+-----+------+------+--------+------+-----+------+--------+------+-----+------+--------+-----+-----+\n",
      "|user|model|action|mean_X|stddev_X| min_X|max_X|mean_Y|stddev_Y| min_Y|max_Y|mean_Z|stddev_Z|min_Z|max_Z|\n",
      "+----+-----+------+------+--------+------+-----+------+--------+------+-----+------+--------+-----+-----+\n",
      "|   a| gear|  null| -9.26|    0.03| -9.36|-9.17| -3.47|    0.05| -3.59|-3.32| -1.04|    0.03|-1.14|-0.93|\n",
      "|   a| gear| stand| -9.29|    0.41|-12.60|-0.57| -3.14|    1.06|-11.08|-0.58| -1.07|    0.62|-2.26| 1.02|\n",
      "|   a| gear|   sit| -7.60|    0.19|-10.82|-6.66| -5.53|    0.27| -6.92|-0.83|  2.64|    0.39|-3.67| 3.56|\n",
      "+----+-----+------+------+--------+------+-----+------+--------+------+-----+------+--------+-----+-----+\n",
      "\n",
      "+----+-----+------+------+--------+-----+-----+------+--------+-----+-----+------+--------+-----+-----+\n",
      "|user|model|action|mean_X|stddev_X|min_X|max_X|mean_Y|stddev_Y|min_Y|max_Y|mean_Z|stddev_Z|min_Z|max_Z|\n",
      "+----+-----+------+------+--------+-----+-----+------+--------+-----+-----+------+--------+-----+-----+\n",
      "|   a| gear|  null|  0.02|    0.02|-0.03| 0.06| -0.04|    0.01|-0.08|-0.02| -0.07|    0.01|-0.09|-0.06|\n",
      "|   a| gear| stand|  0.02|    0.07|-2.04| 0.81| -0.03|    0.06|-0.55| 0.35| -0.07|    0.05|-1.23| 1.15|\n",
      "|   a| gear|   sit|  0.02|    0.06|-0.70| 0.40| -0.04|    0.06|-0.79| 0.40| -0.07|    0.05|-0.23| 0.78|\n",
      "+----+-----+------+------+--------+-----+-----+------+--------+-----+-----+------+--------+-----+-----+\n",
      "\n"
     ]
    }
   ],
   "source": [
    "resultados_phone_acceler.show()\n",
    "resultados_phone_gyros.show()\n",
    "resultados_watch_acceler.show()\n",
    "resultados_watch_gyros.show()"
   ]
  },
  {
   "cell_type": "code",
   "execution_count": 10,
   "id": "aggregate-chocolate",
   "metadata": {},
   "outputs": [
    {
     "name": "stdout",
     "output_type": "stream",
     "text": [
      "+----+------+------+------+--------+------+-----+------+--------+------+-----+------+--------+-----+-----+------+--------+-----+-----+------+--------+-----+-----+------+--------+-----+-----+\n",
      "|user| model|action|mean_X|stddev_X| min_X|max_X|mean_Y|stddev_Y| min_Y|max_Y|mean_Z|stddev_Z|min_Z|max_Z|mean_X|stddev_X|min_X|max_X|mean_Y|stddev_Y|min_Y|max_Y|mean_Z|stddev_Z|min_Z|max_Z|\n",
      "+----+------+------+------+--------+------+-----+------+--------+------+-----+------+--------+-----+-----+------+--------+-----+-----+------+--------+-----+-----+------+--------+-----+-----+\n",
      "|   a|  gear| stand| -9.29|    0.41|-12.60|-0.57| -3.14|    1.06|-11.08|-0.58| -1.07|    0.62|-2.26| 1.02|  0.02|    0.07|-2.04| 0.81| -0.03|    0.06|-0.55| 0.35| -0.07|    0.05|-1.23| 1.15|\n",
      "|   a|  gear|   sit| -7.60|    0.19|-10.82|-6.66| -5.53|    0.27| -6.92|-0.83|  2.64|    0.39|-3.67| 3.56|  0.02|    0.06|-0.70| 0.40| -0.04|    0.06|-0.79| 0.40| -0.07|    0.05|-0.23| 0.78|\n",
      "|   a|nexus4| stand| -6.03|    0.18| -7.04|-5.52|  0.93|    0.24| -0.84| 1.95|  8.01|    0.18| 7.15| 8.64|  0.00|    0.04|-0.17| 0.63|  0.00|    0.03|-0.16| 0.35|  0.00|    0.05|-0.60| 0.45|\n",
      "+----+------+------+------+--------+------+-----+------+--------+------+-----+------+--------+-----+-----+------+--------+-----+-----+------+--------+-----+-----+------+--------+-----+-----+\n",
      "\n"
     ]
    }
   ],
   "source": [
    "# dataframes reloj y telefono\n",
    "reloj = resultados_watch_acceler.join(resultados_watch_gyros, [\"user\", \"model\", \"action\"])\n",
    "telefono = resultados_phone_acceler.join(resultados_phone_gyros, [\"user\", \"model\", \"action\"])\n",
    "\n",
    "# unir dataFrames de reloj y teléfono\n",
    "df_final = reloj.union(telefono)\n",
    "\n",
    "# dataFrame final\n",
    "df_final.show()"
   ]
  },
  {
   "cell_type": "code",
   "execution_count": null,
   "id": "personal-quarter",
   "metadata": {},
   "outputs": [],
   "source": []
  }
 ],
 "metadata": {
  "kernelspec": {
   "display_name": "Pyspark (Py3)",
   "language": "",
   "name": "pyspark"
  },
  "language_info": {
   "codemirror_mode": {
    "name": "ipython",
    "version": 3
   },
   "file_extension": ".py",
   "mimetype": "text/x-python",
   "name": "python",
   "nbconvert_exporter": "python",
   "pygments_lexer": "ipython3",
   "version": "3.8.5"
  }
 },
 "nbformat": 4,
 "nbformat_minor": 5
}
